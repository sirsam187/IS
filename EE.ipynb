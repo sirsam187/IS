{
 "cells": [
  {
   "cell_type": "code",
   "execution_count": 1,
   "metadata": {},
   "outputs": [],
   "source": [
    "def ExtendedEuclid(a,b):\n",
    "    if(b==0):\n",
    "        return a,1,0\n",
    "    gcd,x1,y1=ExtendedEuclid(b,a%b)\n",
    "    x=y1\n",
    "    y=x1-(a//b)*y1\n",
    "    return gcd,x,y"
   ]
  },
  {
   "cell_type": "code",
   "execution_count": 5,
   "metadata": {},
   "outputs": [
    {
     "name": "stdout",
     "output_type": "stream",
     "text": [
      "GCD =  5\n",
      "x =  1\n",
      "y =  -2\n"
     ]
    }
   ],
   "source": [
    "gcd,x,y=ExtendedEuclid(35,15)\n",
    "print(\"GCD = \",gcd)\n",
    "print(\"x = \",x)\n",
    "print(\"y = \",y)"
   ]
  }
 ],
 "metadata": {
  "kernelspec": {
   "display_name": "Python 3",
   "language": "python",
   "name": "python3"
  },
  "language_info": {
   "codemirror_mode": {
    "name": "ipython",
    "version": 3
   },
   "file_extension": ".py",
   "mimetype": "text/x-python",
   "name": "python",
   "nbconvert_exporter": "python",
   "pygments_lexer": "ipython3",
   "version": "3.10.1"
  }
 },
 "nbformat": 4,
 "nbformat_minor": 2
}
