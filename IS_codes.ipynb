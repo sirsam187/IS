{
  "nbformat": 4,
  "nbformat_minor": 0,
  "metadata": {
    "colab": {
      "provenance": []
    },
    "kernelspec": {
      "name": "python3",
      "display_name": "Python 3"
    },
    "language_info": {
      "name": "python"
    }
  },
  "cells": [
    {
      "cell_type": "markdown",
      "source": [
        "# Euclidean"
      ],
      "metadata": {
        "id": "AN6RKaEU4uUq"
      }
    },
    {
      "cell_type": "code",
      "execution_count": 1,
      "metadata": {
        "colab": {
          "base_uri": "https://localhost:8080/"
        },
        "id": "yiWmZ4k94oyb",
        "outputId": "5512c14c-e540-4dad-b547-29fd4154bf32"
      },
      "outputs": [
        {
          "output_type": "execute_result",
          "data": {
            "text/plain": [
              "4"
            ]
          },
          "metadata": {},
          "execution_count": 1
        }
      ],
      "source": [
        "def gcd(a, b):\n",
        "    if a == 0:\n",
        "        return b\n",
        "\n",
        "    return gcd(b % a, a)\n",
        "\n",
        "gcd(20,8)"
      ]
    },
    {
      "cell_type": "markdown",
      "source": [
        "# Extended Euclidean"
      ],
      "metadata": {
        "id": "bNAYRw0G5PCn"
      }
    },
    {
      "cell_type": "code",
      "source": [
        "def gcdExtended(a, b):\n",
        "\n",
        "    if a == 0:\n",
        "        return b, 0, 1\n",
        "\n",
        "    gcd, x1, y1 = gcdExtended(b % a, a)\n",
        "\n",
        "    x = y1 - (b//a) * x1\n",
        "    y = x1\n",
        "\n",
        "    return gcd, x, y\n",
        "\n",
        "a, b = 35, 15\n",
        "g, x, y = gcdExtended(a, b)\n",
        "print(\"gcd(\", a, \",\", b, \") = \", g)"
      ],
      "metadata": {
        "colab": {
          "base_uri": "https://localhost:8080/"
        },
        "id": "uj3HYbmw5SUG",
        "outputId": "db5ac356-11a0-402c-fb1f-456df4bcca4e"
      },
      "execution_count": 2,
      "outputs": [
        {
          "output_type": "stream",
          "name": "stdout",
          "text": [
            "gcd( 35 , 15 ) =  5\n"
          ]
        }
      ]
    },
    {
      "cell_type": "markdown",
      "source": [
        "# Vernam Cipher"
      ],
      "metadata": {
        "id": "ToFqE7qY7qXH"
      }
    },
    {
      "cell_type": "code",
      "source": [
        "def encrypt(pt,key):\n",
        "  if(len(pt)!=len(key)):\n",
        "    k=key\n",
        "    c=0\n",
        "    while(len(k)!=len(pt)):\n",
        "      k=k+key[c]\n",
        "      if(c==len(key)-1):\n",
        "        c=0\n",
        "      else:\n",
        "        c=c+1\n",
        "  key=k\n",
        "  ct=\"\"\n",
        "  for i in range(len(pt)):\n",
        "    ct=ct+chr(ord(pt[i])^ord(key[i]))\n",
        "  return ct\n",
        "\n",
        "def decrypt(ct,key):\n",
        "  if(len(ct)!=len(key)):\n",
        "    k=key\n",
        "    c=0\n",
        "    while(len(k)!=len(ct)):\n",
        "      k=k+key[c]\n",
        "      if(c==len(key)-1):\n",
        "        c=0\n",
        "      else:\n",
        "        c=c+1\n",
        "  key=k\n",
        "  pt=\"\"\n",
        "  for i in range(len(ct)):\n",
        "    pt=pt+chr(ord(ct[i])^ord(key[i]))\n",
        "  return pt\n",
        "\n",
        "ct=encrypt(\"HELLO\",\"OC\")\n",
        "decrypt(ct,\"OC\")"
      ],
      "metadata": {
        "colab": {
          "base_uri": "https://localhost:8080/",
          "height": 35
        },
        "id": "IWglN1PP7s33",
        "outputId": "b2db0327-475f-4d30-ff04-9b566a5d8438"
      },
      "execution_count": 39,
      "outputs": [
        {
          "output_type": "execute_result",
          "data": {
            "text/plain": [
              "'HELLO'"
            ],
            "application/vnd.google.colaboratory.intrinsic+json": {
              "type": "string"
            }
          },
          "metadata": {},
          "execution_count": 39
        }
      ]
    },
    {
      "cell_type": "markdown",
      "source": [
        "# Caeser Cipher"
      ],
      "metadata": {
        "id": "Ma0WBkbp_DuB"
      }
    },
    {
      "cell_type": "code",
      "source": [
        "def encrypt(pt,key):\n",
        "  ct=\"\"\n",
        "  for i in pt:\n",
        "    if(i.isupper()):\n",
        "      ct=ct+chr((ord(i)+key-65)%26+65)\n",
        "    else:\n",
        "      ct=ct+chr((ord(i)+key-97)%26+97)\n",
        "  return ct\n",
        "\n",
        "def decrypt(ct,key):\n",
        "  pt=\"\"\n",
        "  for i in ct:\n",
        "    if(i.isupper()):\n",
        "      pt=pt+chr((ord(i)-key-65)%26+65)\n",
        "    else:\n",
        "      pt=pt+chr((ord(i)-key-97)%26+97)\n",
        "  return pt\n",
        "\n",
        "ct=encrypt(\"ATTACKATONCE\",4)\n",
        "decrypt(ct,4)"
      ],
      "metadata": {
        "colab": {
          "base_uri": "https://localhost:8080/",
          "height": 35
        },
        "id": "T3fdO46-_H3a",
        "outputId": "f715b681-abd7-4458-c1c5-c13ae5992206"
      },
      "execution_count": 75,
      "outputs": [
        {
          "output_type": "execute_result",
          "data": {
            "text/plain": [
              "'ATTACKATONCE'"
            ],
            "application/vnd.google.colaboratory.intrinsic+json": {
              "type": "string"
            }
          },
          "metadata": {},
          "execution_count": 75
        }
      ]
    },
    {
      "cell_type": "code",
      "source": [
        "ct"
      ],
      "metadata": {
        "colab": {
          "base_uri": "https://localhost:8080/",
          "height": 35
        },
        "id": "GWMvRjxPUCP5",
        "outputId": "f001b3e7-6119-48f0-a372-b683ff211a85"
      },
      "execution_count": 76,
      "outputs": [
        {
          "output_type": "execute_result",
          "data": {
            "text/plain": [
              "'EXXEGOEXSRGI'"
            ],
            "application/vnd.google.colaboratory.intrinsic+json": {
              "type": "string"
            }
          },
          "metadata": {},
          "execution_count": 76
        }
      ]
    },
    {
      "cell_type": "markdown",
      "source": [
        "# Caeser Cipher Decrypt with Brute Force"
      ],
      "metadata": {
        "id": "odQs308IQfjc"
      }
    },
    {
      "cell_type": "code",
      "source": [
        "def decrypt(ct,key):\n",
        "  pt=\"\"\n",
        "  for i in ct:\n",
        "    if(i.isupper()):\n",
        "      pt=pt+chr((ord(i)-key-65)%26+65)\n",
        "    else:\n",
        "      pt=pt+chr((ord(i)-key-97)%26+97)\n",
        "  return pt\n",
        "\n",
        "def bruteforce(ct):\n",
        "  for i in range(1,27):\n",
        "    print(f\"Key {i} : {decrypt(ct,i)}\")"
      ],
      "metadata": {
        "id": "yCYHk7X1QirX"
      },
      "execution_count": 74,
      "outputs": []
    },
    {
      "cell_type": "code",
      "source": [
        "bruteforce(\"EXXEGOEXSRGI\")"
      ],
      "metadata": {
        "colab": {
          "base_uri": "https://localhost:8080/"
        },
        "id": "4GAOomFwUAP1",
        "outputId": "f6fec625-7777-4991-9306-b804bb11eef4"
      },
      "execution_count": 77,
      "outputs": [
        {
          "output_type": "stream",
          "name": "stdout",
          "text": [
            "Key 1 : DWWDFNDWRQFH\n",
            "Key 2 : CVVCEMCVQPEG\n",
            "Key 3 : BUUBDLBUPODF\n",
            "Key 4 : ATTACKATONCE\n",
            "Key 5 : ZSSZBJZSNMBD\n",
            "Key 6 : YRRYAIYRMLAC\n",
            "Key 7 : XQQXZHXQLKZB\n",
            "Key 8 : WPPWYGWPKJYA\n",
            "Key 9 : VOOVXFVOJIXZ\n",
            "Key 10 : UNNUWEUNIHWY\n",
            "Key 11 : TMMTVDTMHGVX\n",
            "Key 12 : SLLSUCSLGFUW\n",
            "Key 13 : RKKRTBRKFETV\n",
            "Key 14 : QJJQSAQJEDSU\n",
            "Key 15 : PIIPRZPIDCRT\n",
            "Key 16 : OHHOQYOHCBQS\n",
            "Key 17 : NGGNPXNGBAPR\n",
            "Key 18 : MFFMOWMFAZOQ\n",
            "Key 19 : LEELNVLEZYNP\n",
            "Key 20 : KDDKMUKDYXMO\n",
            "Key 21 : JCCJLTJCXWLN\n",
            "Key 22 : IBBIKSIBWVKM\n",
            "Key 23 : HAAHJRHAVUJL\n",
            "Key 24 : GZZGIQGZUTIK\n",
            "Key 25 : FYYFHPFYTSHJ\n",
            "Key 26 : EXXEGOEXSRGI\n"
          ]
        }
      ]
    },
    {
      "cell_type": "markdown",
      "source": [
        "# Rail Fence"
      ],
      "metadata": {
        "id": "PgWv9hZUBYs3"
      }
    },
    {
      "cell_type": "code",
      "source": [
        "import pandas as pd\n",
        "def encrypt(pt,key):\n",
        "  cols=[]\n",
        "  for i in range(len(pt)):\n",
        "    cols.append(i)\n",
        "  df=pd.DataFrame(columns=cols)\n",
        "  for col in cols:\n",
        "    df[col]=[\"\" for i in range(key)]\n",
        "  col=0\n",
        "  row=0\n",
        "  bottom=0\n",
        "  for i in pt:\n",
        "    if(row==0 and col!=0):\n",
        "      row=row+1\n",
        "      bottom=0\n",
        "    if(row<key and bottom==0):\n",
        "      df[col][row]=i\n",
        "      row=row+1\n",
        "    elif(row==key):\n",
        "      bottom=1\n",
        "      row=row-2\n",
        "      df[col][row]=i\n",
        "    else:\n",
        "      row=row-1\n",
        "      df[col][row]=i\n",
        "    col=col+1\n",
        "  ct=\"\"\n",
        "  for i in range(key):\n",
        "    for j in cols:\n",
        "      ct=ct+df[j][i]\n",
        "  ct=ct.replace(\" \",\"\")\n",
        "  return df,ct\n",
        "\n",
        "df,ct=encrypt(\"RailFence1\",4)"
      ],
      "metadata": {
        "id": "9S7PrMh1BZ53"
      },
      "execution_count": 5,
      "outputs": []
    },
    {
      "cell_type": "code",
      "source": [
        "df"
      ],
      "metadata": {
        "colab": {
          "base_uri": "https://localhost:8080/",
          "height": 174
        },
        "id": "m_1m2cohHnb8",
        "outputId": "c50e46bf-eb1d-4066-cd4e-38c8e778bf9c"
      },
      "execution_count": 6,
      "outputs": [
        {
          "output_type": "execute_result",
          "data": {
            "text/plain": [
              "   0  1  2  3  4  5  6  7  8  9\n",
              "0  R                 n         \n",
              "1     a           e     c      \n",
              "2        i     F           e   \n",
              "3           l                 1"
            ],
            "text/html": [
              "\n",
              "  <div id=\"df-e2871bc4-c278-4573-b091-a32cc53967ef\" class=\"colab-df-container\">\n",
              "    <div>\n",
              "<style scoped>\n",
              "    .dataframe tbody tr th:only-of-type {\n",
              "        vertical-align: middle;\n",
              "    }\n",
              "\n",
              "    .dataframe tbody tr th {\n",
              "        vertical-align: top;\n",
              "    }\n",
              "\n",
              "    .dataframe thead th {\n",
              "        text-align: right;\n",
              "    }\n",
              "</style>\n",
              "<table border=\"1\" class=\"dataframe\">\n",
              "  <thead>\n",
              "    <tr style=\"text-align: right;\">\n",
              "      <th></th>\n",
              "      <th>0</th>\n",
              "      <th>1</th>\n",
              "      <th>2</th>\n",
              "      <th>3</th>\n",
              "      <th>4</th>\n",
              "      <th>5</th>\n",
              "      <th>6</th>\n",
              "      <th>7</th>\n",
              "      <th>8</th>\n",
              "      <th>9</th>\n",
              "    </tr>\n",
              "  </thead>\n",
              "  <tbody>\n",
              "    <tr>\n",
              "      <th>0</th>\n",
              "      <td>R</td>\n",
              "      <td></td>\n",
              "      <td></td>\n",
              "      <td></td>\n",
              "      <td></td>\n",
              "      <td></td>\n",
              "      <td>n</td>\n",
              "      <td></td>\n",
              "      <td></td>\n",
              "      <td></td>\n",
              "    </tr>\n",
              "    <tr>\n",
              "      <th>1</th>\n",
              "      <td></td>\n",
              "      <td>a</td>\n",
              "      <td></td>\n",
              "      <td></td>\n",
              "      <td></td>\n",
              "      <td>e</td>\n",
              "      <td></td>\n",
              "      <td>c</td>\n",
              "      <td></td>\n",
              "      <td></td>\n",
              "    </tr>\n",
              "    <tr>\n",
              "      <th>2</th>\n",
              "      <td></td>\n",
              "      <td></td>\n",
              "      <td>i</td>\n",
              "      <td></td>\n",
              "      <td>F</td>\n",
              "      <td></td>\n",
              "      <td></td>\n",
              "      <td></td>\n",
              "      <td>e</td>\n",
              "      <td></td>\n",
              "    </tr>\n",
              "    <tr>\n",
              "      <th>3</th>\n",
              "      <td></td>\n",
              "      <td></td>\n",
              "      <td></td>\n",
              "      <td>l</td>\n",
              "      <td></td>\n",
              "      <td></td>\n",
              "      <td></td>\n",
              "      <td></td>\n",
              "      <td></td>\n",
              "      <td>1</td>\n",
              "    </tr>\n",
              "  </tbody>\n",
              "</table>\n",
              "</div>\n",
              "    <div class=\"colab-df-buttons\">\n",
              "\n",
              "  <div class=\"colab-df-container\">\n",
              "    <button class=\"colab-df-convert\" onclick=\"convertToInteractive('df-e2871bc4-c278-4573-b091-a32cc53967ef')\"\n",
              "            title=\"Convert this dataframe to an interactive table.\"\n",
              "            style=\"display:none;\">\n",
              "\n",
              "  <svg xmlns=\"http://www.w3.org/2000/svg\" height=\"24px\" viewBox=\"0 -960 960 960\">\n",
              "    <path d=\"M120-120v-720h720v720H120Zm60-500h600v-160H180v160Zm220 220h160v-160H400v160Zm0 220h160v-160H400v160ZM180-400h160v-160H180v160Zm440 0h160v-160H620v160ZM180-180h160v-160H180v160Zm440 0h160v-160H620v160Z\"/>\n",
              "  </svg>\n",
              "    </button>\n",
              "\n",
              "  <style>\n",
              "    .colab-df-container {\n",
              "      display:flex;\n",
              "      gap: 12px;\n",
              "    }\n",
              "\n",
              "    .colab-df-convert {\n",
              "      background-color: #E8F0FE;\n",
              "      border: none;\n",
              "      border-radius: 50%;\n",
              "      cursor: pointer;\n",
              "      display: none;\n",
              "      fill: #1967D2;\n",
              "      height: 32px;\n",
              "      padding: 0 0 0 0;\n",
              "      width: 32px;\n",
              "    }\n",
              "\n",
              "    .colab-df-convert:hover {\n",
              "      background-color: #E2EBFA;\n",
              "      box-shadow: 0px 1px 2px rgba(60, 64, 67, 0.3), 0px 1px 3px 1px rgba(60, 64, 67, 0.15);\n",
              "      fill: #174EA6;\n",
              "    }\n",
              "\n",
              "    .colab-df-buttons div {\n",
              "      margin-bottom: 4px;\n",
              "    }\n",
              "\n",
              "    [theme=dark] .colab-df-convert {\n",
              "      background-color: #3B4455;\n",
              "      fill: #D2E3FC;\n",
              "    }\n",
              "\n",
              "    [theme=dark] .colab-df-convert:hover {\n",
              "      background-color: #434B5C;\n",
              "      box-shadow: 0px 1px 3px 1px rgba(0, 0, 0, 0.15);\n",
              "      filter: drop-shadow(0px 1px 2px rgba(0, 0, 0, 0.3));\n",
              "      fill: #FFFFFF;\n",
              "    }\n",
              "  </style>\n",
              "\n",
              "    <script>\n",
              "      const buttonEl =\n",
              "        document.querySelector('#df-e2871bc4-c278-4573-b091-a32cc53967ef button.colab-df-convert');\n",
              "      buttonEl.style.display =\n",
              "        google.colab.kernel.accessAllowed ? 'block' : 'none';\n",
              "\n",
              "      async function convertToInteractive(key) {\n",
              "        const element = document.querySelector('#df-e2871bc4-c278-4573-b091-a32cc53967ef');\n",
              "        const dataTable =\n",
              "          await google.colab.kernel.invokeFunction('convertToInteractive',\n",
              "                                                    [key], {});\n",
              "        if (!dataTable) return;\n",
              "\n",
              "        const docLinkHtml = 'Like what you see? Visit the ' +\n",
              "          '<a target=\"_blank\" href=https://colab.research.google.com/notebooks/data_table.ipynb>data table notebook</a>'\n",
              "          + ' to learn more about interactive tables.';\n",
              "        element.innerHTML = '';\n",
              "        dataTable['output_type'] = 'display_data';\n",
              "        await google.colab.output.renderOutput(dataTable, element);\n",
              "        const docLink = document.createElement('div');\n",
              "        docLink.innerHTML = docLinkHtml;\n",
              "        element.appendChild(docLink);\n",
              "      }\n",
              "    </script>\n",
              "  </div>\n",
              "\n",
              "\n",
              "<div id=\"df-e0dd3290-df2a-4450-971a-5ae743338c32\">\n",
              "  <button class=\"colab-df-quickchart\" onclick=\"quickchart('df-e0dd3290-df2a-4450-971a-5ae743338c32')\"\n",
              "            title=\"Suggest charts\"\n",
              "            style=\"display:none;\">\n",
              "\n",
              "<svg xmlns=\"http://www.w3.org/2000/svg\" height=\"24px\"viewBox=\"0 0 24 24\"\n",
              "     width=\"24px\">\n",
              "    <g>\n",
              "        <path d=\"M19 3H5c-1.1 0-2 .9-2 2v14c0 1.1.9 2 2 2h14c1.1 0 2-.9 2-2V5c0-1.1-.9-2-2-2zM9 17H7v-7h2v7zm4 0h-2V7h2v10zm4 0h-2v-4h2v4z\"/>\n",
              "    </g>\n",
              "</svg>\n",
              "  </button>\n",
              "\n",
              "<style>\n",
              "  .colab-df-quickchart {\n",
              "      --bg-color: #E8F0FE;\n",
              "      --fill-color: #1967D2;\n",
              "      --hover-bg-color: #E2EBFA;\n",
              "      --hover-fill-color: #174EA6;\n",
              "      --disabled-fill-color: #AAA;\n",
              "      --disabled-bg-color: #DDD;\n",
              "  }\n",
              "\n",
              "  [theme=dark] .colab-df-quickchart {\n",
              "      --bg-color: #3B4455;\n",
              "      --fill-color: #D2E3FC;\n",
              "      --hover-bg-color: #434B5C;\n",
              "      --hover-fill-color: #FFFFFF;\n",
              "      --disabled-bg-color: #3B4455;\n",
              "      --disabled-fill-color: #666;\n",
              "  }\n",
              "\n",
              "  .colab-df-quickchart {\n",
              "    background-color: var(--bg-color);\n",
              "    border: none;\n",
              "    border-radius: 50%;\n",
              "    cursor: pointer;\n",
              "    display: none;\n",
              "    fill: var(--fill-color);\n",
              "    height: 32px;\n",
              "    padding: 0;\n",
              "    width: 32px;\n",
              "  }\n",
              "\n",
              "  .colab-df-quickchart:hover {\n",
              "    background-color: var(--hover-bg-color);\n",
              "    box-shadow: 0 1px 2px rgba(60, 64, 67, 0.3), 0 1px 3px 1px rgba(60, 64, 67, 0.15);\n",
              "    fill: var(--button-hover-fill-color);\n",
              "  }\n",
              "\n",
              "  .colab-df-quickchart-complete:disabled,\n",
              "  .colab-df-quickchart-complete:disabled:hover {\n",
              "    background-color: var(--disabled-bg-color);\n",
              "    fill: var(--disabled-fill-color);\n",
              "    box-shadow: none;\n",
              "  }\n",
              "\n",
              "  .colab-df-spinner {\n",
              "    border: 2px solid var(--fill-color);\n",
              "    border-color: transparent;\n",
              "    border-bottom-color: var(--fill-color);\n",
              "    animation:\n",
              "      spin 1s steps(1) infinite;\n",
              "  }\n",
              "\n",
              "  @keyframes spin {\n",
              "    0% {\n",
              "      border-color: transparent;\n",
              "      border-bottom-color: var(--fill-color);\n",
              "      border-left-color: var(--fill-color);\n",
              "    }\n",
              "    20% {\n",
              "      border-color: transparent;\n",
              "      border-left-color: var(--fill-color);\n",
              "      border-top-color: var(--fill-color);\n",
              "    }\n",
              "    30% {\n",
              "      border-color: transparent;\n",
              "      border-left-color: var(--fill-color);\n",
              "      border-top-color: var(--fill-color);\n",
              "      border-right-color: var(--fill-color);\n",
              "    }\n",
              "    40% {\n",
              "      border-color: transparent;\n",
              "      border-right-color: var(--fill-color);\n",
              "      border-top-color: var(--fill-color);\n",
              "    }\n",
              "    60% {\n",
              "      border-color: transparent;\n",
              "      border-right-color: var(--fill-color);\n",
              "    }\n",
              "    80% {\n",
              "      border-color: transparent;\n",
              "      border-right-color: var(--fill-color);\n",
              "      border-bottom-color: var(--fill-color);\n",
              "    }\n",
              "    90% {\n",
              "      border-color: transparent;\n",
              "      border-bottom-color: var(--fill-color);\n",
              "    }\n",
              "  }\n",
              "</style>\n",
              "\n",
              "  <script>\n",
              "    async function quickchart(key) {\n",
              "      const quickchartButtonEl =\n",
              "        document.querySelector('#' + key + ' button');\n",
              "      quickchartButtonEl.disabled = true;  // To prevent multiple clicks.\n",
              "      quickchartButtonEl.classList.add('colab-df-spinner');\n",
              "      try {\n",
              "        const charts = await google.colab.kernel.invokeFunction(\n",
              "            'suggestCharts', [key], {});\n",
              "      } catch (error) {\n",
              "        console.error('Error during call to suggestCharts:', error);\n",
              "      }\n",
              "      quickchartButtonEl.classList.remove('colab-df-spinner');\n",
              "      quickchartButtonEl.classList.add('colab-df-quickchart-complete');\n",
              "    }\n",
              "    (() => {\n",
              "      let quickchartButtonEl =\n",
              "        document.querySelector('#df-e0dd3290-df2a-4450-971a-5ae743338c32 button');\n",
              "      quickchartButtonEl.style.display =\n",
              "        google.colab.kernel.accessAllowed ? 'block' : 'none';\n",
              "    })();\n",
              "  </script>\n",
              "</div>\n",
              "\n",
              "  <div id=\"id_1d773343-3cdc-4acf-9d3d-9871903b9e22\">\n",
              "    <style>\n",
              "      .colab-df-generate {\n",
              "        background-color: #E8F0FE;\n",
              "        border: none;\n",
              "        border-radius: 50%;\n",
              "        cursor: pointer;\n",
              "        display: none;\n",
              "        fill: #1967D2;\n",
              "        height: 32px;\n",
              "        padding: 0 0 0 0;\n",
              "        width: 32px;\n",
              "      }\n",
              "\n",
              "      .colab-df-generate:hover {\n",
              "        background-color: #E2EBFA;\n",
              "        box-shadow: 0px 1px 2px rgba(60, 64, 67, 0.3), 0px 1px 3px 1px rgba(60, 64, 67, 0.15);\n",
              "        fill: #174EA6;\n",
              "      }\n",
              "\n",
              "      [theme=dark] .colab-df-generate {\n",
              "        background-color: #3B4455;\n",
              "        fill: #D2E3FC;\n",
              "      }\n",
              "\n",
              "      [theme=dark] .colab-df-generate:hover {\n",
              "        background-color: #434B5C;\n",
              "        box-shadow: 0px 1px 3px 1px rgba(0, 0, 0, 0.15);\n",
              "        filter: drop-shadow(0px 1px 2px rgba(0, 0, 0, 0.3));\n",
              "        fill: #FFFFFF;\n",
              "      }\n",
              "    </style>\n",
              "    <button class=\"colab-df-generate\" onclick=\"generateWithVariable('df')\"\n",
              "            title=\"Generate code using this dataframe.\"\n",
              "            style=\"display:none;\">\n",
              "\n",
              "  <svg xmlns=\"http://www.w3.org/2000/svg\" height=\"24px\"viewBox=\"0 0 24 24\"\n",
              "       width=\"24px\">\n",
              "    <path d=\"M7,19H8.4L18.45,9,17,7.55,7,17.6ZM5,21V16.75L18.45,3.32a2,2,0,0,1,2.83,0l1.4,1.43a1.91,1.91,0,0,1,.58,1.4,1.91,1.91,0,0,1-.58,1.4L9.25,21ZM18.45,9,17,7.55Zm-12,3A5.31,5.31,0,0,0,4.9,8.1,5.31,5.31,0,0,0,1,6.5,5.31,5.31,0,0,0,4.9,4.9,5.31,5.31,0,0,0,6.5,1,5.31,5.31,0,0,0,8.1,4.9,5.31,5.31,0,0,0,12,6.5,5.46,5.46,0,0,0,6.5,12Z\"/>\n",
              "  </svg>\n",
              "    </button>\n",
              "    <script>\n",
              "      (() => {\n",
              "      const buttonEl =\n",
              "        document.querySelector('#id_1d773343-3cdc-4acf-9d3d-9871903b9e22 button.colab-df-generate');\n",
              "      buttonEl.style.display =\n",
              "        google.colab.kernel.accessAllowed ? 'block' : 'none';\n",
              "\n",
              "      buttonEl.onclick = () => {\n",
              "        google.colab.notebook.generateWithVariable('df');\n",
              "      }\n",
              "      })();\n",
              "    </script>\n",
              "  </div>\n",
              "\n",
              "    </div>\n",
              "  </div>\n"
            ]
          },
          "metadata": {},
          "execution_count": 6
        }
      ]
    },
    {
      "cell_type": "code",
      "source": [
        "ct"
      ],
      "metadata": {
        "colab": {
          "base_uri": "https://localhost:8080/",
          "height": 35
        },
        "id": "c8Hm6XTyHoXG",
        "outputId": "9cca1a69-e6ca-4f69-92dc-462737602592"
      },
      "execution_count": 7,
      "outputs": [
        {
          "output_type": "execute_result",
          "data": {
            "text/plain": [
              "'RnaeciFel1'"
            ],
            "application/vnd.google.colaboratory.intrinsic+json": {
              "type": "string"
            }
          },
          "metadata": {},
          "execution_count": 7
        }
      ]
    },
    {
      "cell_type": "markdown",
      "source": [
        "# Columnar Transposition"
      ],
      "metadata": {
        "id": "HzCB6bYhNpJG"
      }
    },
    {
      "cell_type": "code",
      "source": [
        "import pandas as pd\n",
        "import math\n",
        "def encrypt(pt,key):\n",
        "  cols=[]\n",
        "  for i in key:\n",
        "    cols.append(i)\n",
        "\n",
        "  df=pd.DataFrame(columns=cols)\n",
        "\n",
        "  rows=int(math.ceil(len(pt)/len(key)))\n",
        "\n",
        "  for col in cols:\n",
        "    df[col]=[\"\" for i in range(rows)]\n",
        "\n",
        "  ptr=0\n",
        "  pt=pt.replace(\" \",\"_\")\n",
        "\n",
        "  for row in range(rows):\n",
        "    for col in cols:\n",
        "      try:\n",
        "        df[col][row]=pt[ptr]\n",
        "        ptr=ptr+1\n",
        "      except:\n",
        "        df[col][row]=\"_\"\n",
        "\n",
        "  l1=cols\n",
        "\n",
        "  l1.sort()\n",
        "\n",
        "  ct=\"\"\n",
        "\n",
        "  for col in l1:\n",
        "    for row in range(rows):\n",
        "      ct=ct+df[col][row]\n",
        "\n",
        "  return ct\n",
        "\n",
        "def decrypt(ct,key):\n",
        "  cols=[]\n",
        "  for col in key:\n",
        "    cols.append(col)\n",
        "  df=pd.DataFrame(columns=cols)\n",
        "  rows=int(len(ct)/len(cols))\n",
        "  for col in cols:\n",
        "    df[col]=[\"\" for i in range(rows)]\n",
        "  l1=cols\n",
        "  l1.sort()\n",
        "  rang=0\n",
        "  for col in l1:\n",
        "    prev_range=rang\n",
        "    rang=rang+rows\n",
        "    l2=[]\n",
        "    roi=ct[prev_range:rang]\n",
        "    for i in roi:\n",
        "      l2.append(i)\n",
        "    df[col]=l2\n",
        "  pt=\"\"\n",
        "  cols=[]\n",
        "  for col in key:\n",
        "    cols.append(col)\n",
        "  for row in range(rows):\n",
        "    for col in cols:\n",
        "      pt=pt+df[col][row]\n",
        "  pt=pt.replace(\"_\",\" \")\n",
        "  return pt"
      ],
      "metadata": {
        "id": "QbSlmgJ9Nwip"
      },
      "execution_count": 8,
      "outputs": []
    },
    {
      "cell_type": "code",
      "source": [
        "encrypt(\"Atharv\",\"HACK\")"
      ],
      "metadata": {
        "colab": {
          "base_uri": "https://localhost:8080/",
          "height": 35
        },
        "id": "rHXQOZCdYhHZ",
        "outputId": "98373948-b97c-4af1-a00e-5c86c0509029"
      },
      "execution_count": 9,
      "outputs": [
        {
          "output_type": "execute_result",
          "data": {
            "text/plain": [
              "'tvh_Ara_'"
            ],
            "application/vnd.google.colaboratory.intrinsic+json": {
              "type": "string"
            }
          },
          "metadata": {},
          "execution_count": 9
        }
      ]
    },
    {
      "cell_type": "code",
      "source": [
        "decrypt(\"tvh_Ara_\",\"HACK\")"
      ],
      "metadata": {
        "colab": {
          "base_uri": "https://localhost:8080/",
          "height": 35
        },
        "id": "Czg3QNF-cA7e",
        "outputId": "110d4082-3b39-4408-a48d-18633bcdbdd9"
      },
      "execution_count": 10,
      "outputs": [
        {
          "output_type": "execute_result",
          "data": {
            "text/plain": [
              "'Atharv  '"
            ],
            "application/vnd.google.colaboratory.intrinsic+json": {
              "type": "string"
            }
          },
          "metadata": {},
          "execution_count": 10
        }
      ]
    },
    {
      "cell_type": "markdown",
      "source": [
        "# Row Transposition"
      ],
      "metadata": {
        "id": "igOM-n1GUM29"
      }
    },
    {
      "cell_type": "code",
      "source": [
        "import pandas as pd\n",
        "def encrypt(pt,key):\n",
        "  rows=[]\n",
        "  for i in key:\n",
        "    rows.append(i)\n",
        "\n",
        "  cols=math.ceil(len(pt)/len(key))\n",
        "\n",
        "  columns=[]\n",
        "  for i in range(cols+1):\n",
        "    columns.append(i)\n",
        "\n",
        "  df=pd.DataFrame(columns=columns)\n",
        "  df[0]=rows\n",
        "\n",
        "  pt=pt.replace(\" \",\"_\")\n",
        "\n",
        "  ctr=0\n",
        "  for col in columns[1:]:\n",
        "    for row in range(len(rows)):\n",
        "      try:\n",
        "        df[col][row]=pt[ctr]\n",
        "        ctr=ctr+1\n",
        "      except:\n",
        "        df[col][row]=\"_\"\n",
        "\n",
        "  l1=rows\n",
        "  l1.sort()\n",
        "  ct=\"\"\n",
        "  for row in l1:\n",
        "    prow=np.where(df[0]==row)\n",
        "    place_row=prow[0][0]\n",
        "    for col in columns[1:]:\n",
        "      ct=ct+df[col][place_row]\n",
        "\n",
        "  ct=ct.replace(\"_\",\" \")\n",
        "  return ct,df"
      ],
      "metadata": {
        "id": "SLndqU86UOmp"
      },
      "execution_count": 119,
      "outputs": []
    },
    {
      "cell_type": "code",
      "source": [
        "ct,df=encrypt(\"Atharv\",\"HACK\")"
      ],
      "metadata": {
        "id": "t6v9Hrkaagqf"
      },
      "execution_count": 121,
      "outputs": []
    },
    {
      "cell_type": "code",
      "source": [
        "ct"
      ],
      "metadata": {
        "colab": {
          "base_uri": "https://localhost:8080/",
          "height": 35
        },
        "id": "cUzC7Ut0j6io",
        "outputId": "2ea4972f-8a6a-4f42-d9b7-4bdd9efaff00"
      },
      "execution_count": 122,
      "outputs": [
        {
          "output_type": "execute_result",
          "data": {
            "text/plain": [
              "'tvh Ara '"
            ],
            "application/vnd.google.colaboratory.intrinsic+json": {
              "type": "string"
            }
          },
          "metadata": {},
          "execution_count": 122
        }
      ]
    },
    {
      "cell_type": "code",
      "source": [
        "df"
      ],
      "metadata": {
        "colab": {
          "base_uri": "https://localhost:8080/",
          "height": 174
        },
        "id": "BFKD6x9zj7Si",
        "outputId": "354b9081-2850-471d-e580-b7599aa88559"
      },
      "execution_count": 123,
      "outputs": [
        {
          "output_type": "execute_result",
          "data": {
            "text/plain": [
              "   0  1  2\n",
              "0  H  A  r\n",
              "1  A  t  v\n",
              "2  C  h  _\n",
              "3  K  a  _"
            ],
            "text/html": [
              "\n",
              "  <div id=\"df-04007204-f3f2-4421-9ec6-9392bff6a053\" class=\"colab-df-container\">\n",
              "    <div>\n",
              "<style scoped>\n",
              "    .dataframe tbody tr th:only-of-type {\n",
              "        vertical-align: middle;\n",
              "    }\n",
              "\n",
              "    .dataframe tbody tr th {\n",
              "        vertical-align: top;\n",
              "    }\n",
              "\n",
              "    .dataframe thead th {\n",
              "        text-align: right;\n",
              "    }\n",
              "</style>\n",
              "<table border=\"1\" class=\"dataframe\">\n",
              "  <thead>\n",
              "    <tr style=\"text-align: right;\">\n",
              "      <th></th>\n",
              "      <th>0</th>\n",
              "      <th>1</th>\n",
              "      <th>2</th>\n",
              "    </tr>\n",
              "  </thead>\n",
              "  <tbody>\n",
              "    <tr>\n",
              "      <th>0</th>\n",
              "      <td>H</td>\n",
              "      <td>A</td>\n",
              "      <td>r</td>\n",
              "    </tr>\n",
              "    <tr>\n",
              "      <th>1</th>\n",
              "      <td>A</td>\n",
              "      <td>t</td>\n",
              "      <td>v</td>\n",
              "    </tr>\n",
              "    <tr>\n",
              "      <th>2</th>\n",
              "      <td>C</td>\n",
              "      <td>h</td>\n",
              "      <td>_</td>\n",
              "    </tr>\n",
              "    <tr>\n",
              "      <th>3</th>\n",
              "      <td>K</td>\n",
              "      <td>a</td>\n",
              "      <td>_</td>\n",
              "    </tr>\n",
              "  </tbody>\n",
              "</table>\n",
              "</div>\n",
              "    <div class=\"colab-df-buttons\">\n",
              "\n",
              "  <div class=\"colab-df-container\">\n",
              "    <button class=\"colab-df-convert\" onclick=\"convertToInteractive('df-04007204-f3f2-4421-9ec6-9392bff6a053')\"\n",
              "            title=\"Convert this dataframe to an interactive table.\"\n",
              "            style=\"display:none;\">\n",
              "\n",
              "  <svg xmlns=\"http://www.w3.org/2000/svg\" height=\"24px\" viewBox=\"0 -960 960 960\">\n",
              "    <path d=\"M120-120v-720h720v720H120Zm60-500h600v-160H180v160Zm220 220h160v-160H400v160Zm0 220h160v-160H400v160ZM180-400h160v-160H180v160Zm440 0h160v-160H620v160ZM180-180h160v-160H180v160Zm440 0h160v-160H620v160Z\"/>\n",
              "  </svg>\n",
              "    </button>\n",
              "\n",
              "  <style>\n",
              "    .colab-df-container {\n",
              "      display:flex;\n",
              "      gap: 12px;\n",
              "    }\n",
              "\n",
              "    .colab-df-convert {\n",
              "      background-color: #E8F0FE;\n",
              "      border: none;\n",
              "      border-radius: 50%;\n",
              "      cursor: pointer;\n",
              "      display: none;\n",
              "      fill: #1967D2;\n",
              "      height: 32px;\n",
              "      padding: 0 0 0 0;\n",
              "      width: 32px;\n",
              "    }\n",
              "\n",
              "    .colab-df-convert:hover {\n",
              "      background-color: #E2EBFA;\n",
              "      box-shadow: 0px 1px 2px rgba(60, 64, 67, 0.3), 0px 1px 3px 1px rgba(60, 64, 67, 0.15);\n",
              "      fill: #174EA6;\n",
              "    }\n",
              "\n",
              "    .colab-df-buttons div {\n",
              "      margin-bottom: 4px;\n",
              "    }\n",
              "\n",
              "    [theme=dark] .colab-df-convert {\n",
              "      background-color: #3B4455;\n",
              "      fill: #D2E3FC;\n",
              "    }\n",
              "\n",
              "    [theme=dark] .colab-df-convert:hover {\n",
              "      background-color: #434B5C;\n",
              "      box-shadow: 0px 1px 3px 1px rgba(0, 0, 0, 0.15);\n",
              "      filter: drop-shadow(0px 1px 2px rgba(0, 0, 0, 0.3));\n",
              "      fill: #FFFFFF;\n",
              "    }\n",
              "  </style>\n",
              "\n",
              "    <script>\n",
              "      const buttonEl =\n",
              "        document.querySelector('#df-04007204-f3f2-4421-9ec6-9392bff6a053 button.colab-df-convert');\n",
              "      buttonEl.style.display =\n",
              "        google.colab.kernel.accessAllowed ? 'block' : 'none';\n",
              "\n",
              "      async function convertToInteractive(key) {\n",
              "        const element = document.querySelector('#df-04007204-f3f2-4421-9ec6-9392bff6a053');\n",
              "        const dataTable =\n",
              "          await google.colab.kernel.invokeFunction('convertToInteractive',\n",
              "                                                    [key], {});\n",
              "        if (!dataTable) return;\n",
              "\n",
              "        const docLinkHtml = 'Like what you see? Visit the ' +\n",
              "          '<a target=\"_blank\" href=https://colab.research.google.com/notebooks/data_table.ipynb>data table notebook</a>'\n",
              "          + ' to learn more about interactive tables.';\n",
              "        element.innerHTML = '';\n",
              "        dataTable['output_type'] = 'display_data';\n",
              "        await google.colab.output.renderOutput(dataTable, element);\n",
              "        const docLink = document.createElement('div');\n",
              "        docLink.innerHTML = docLinkHtml;\n",
              "        element.appendChild(docLink);\n",
              "      }\n",
              "    </script>\n",
              "  </div>\n",
              "\n",
              "\n",
              "<div id=\"df-6cd4c29c-5e90-451c-a1f4-805a7f62f8d1\">\n",
              "  <button class=\"colab-df-quickchart\" onclick=\"quickchart('df-6cd4c29c-5e90-451c-a1f4-805a7f62f8d1')\"\n",
              "            title=\"Suggest charts\"\n",
              "            style=\"display:none;\">\n",
              "\n",
              "<svg xmlns=\"http://www.w3.org/2000/svg\" height=\"24px\"viewBox=\"0 0 24 24\"\n",
              "     width=\"24px\">\n",
              "    <g>\n",
              "        <path d=\"M19 3H5c-1.1 0-2 .9-2 2v14c0 1.1.9 2 2 2h14c1.1 0 2-.9 2-2V5c0-1.1-.9-2-2-2zM9 17H7v-7h2v7zm4 0h-2V7h2v10zm4 0h-2v-4h2v4z\"/>\n",
              "    </g>\n",
              "</svg>\n",
              "  </button>\n",
              "\n",
              "<style>\n",
              "  .colab-df-quickchart {\n",
              "      --bg-color: #E8F0FE;\n",
              "      --fill-color: #1967D2;\n",
              "      --hover-bg-color: #E2EBFA;\n",
              "      --hover-fill-color: #174EA6;\n",
              "      --disabled-fill-color: #AAA;\n",
              "      --disabled-bg-color: #DDD;\n",
              "  }\n",
              "\n",
              "  [theme=dark] .colab-df-quickchart {\n",
              "      --bg-color: #3B4455;\n",
              "      --fill-color: #D2E3FC;\n",
              "      --hover-bg-color: #434B5C;\n",
              "      --hover-fill-color: #FFFFFF;\n",
              "      --disabled-bg-color: #3B4455;\n",
              "      --disabled-fill-color: #666;\n",
              "  }\n",
              "\n",
              "  .colab-df-quickchart {\n",
              "    background-color: var(--bg-color);\n",
              "    border: none;\n",
              "    border-radius: 50%;\n",
              "    cursor: pointer;\n",
              "    display: none;\n",
              "    fill: var(--fill-color);\n",
              "    height: 32px;\n",
              "    padding: 0;\n",
              "    width: 32px;\n",
              "  }\n",
              "\n",
              "  .colab-df-quickchart:hover {\n",
              "    background-color: var(--hover-bg-color);\n",
              "    box-shadow: 0 1px 2px rgba(60, 64, 67, 0.3), 0 1px 3px 1px rgba(60, 64, 67, 0.15);\n",
              "    fill: var(--button-hover-fill-color);\n",
              "  }\n",
              "\n",
              "  .colab-df-quickchart-complete:disabled,\n",
              "  .colab-df-quickchart-complete:disabled:hover {\n",
              "    background-color: var(--disabled-bg-color);\n",
              "    fill: var(--disabled-fill-color);\n",
              "    box-shadow: none;\n",
              "  }\n",
              "\n",
              "  .colab-df-spinner {\n",
              "    border: 2px solid var(--fill-color);\n",
              "    border-color: transparent;\n",
              "    border-bottom-color: var(--fill-color);\n",
              "    animation:\n",
              "      spin 1s steps(1) infinite;\n",
              "  }\n",
              "\n",
              "  @keyframes spin {\n",
              "    0% {\n",
              "      border-color: transparent;\n",
              "      border-bottom-color: var(--fill-color);\n",
              "      border-left-color: var(--fill-color);\n",
              "    }\n",
              "    20% {\n",
              "      border-color: transparent;\n",
              "      border-left-color: var(--fill-color);\n",
              "      border-top-color: var(--fill-color);\n",
              "    }\n",
              "    30% {\n",
              "      border-color: transparent;\n",
              "      border-left-color: var(--fill-color);\n",
              "      border-top-color: var(--fill-color);\n",
              "      border-right-color: var(--fill-color);\n",
              "    }\n",
              "    40% {\n",
              "      border-color: transparent;\n",
              "      border-right-color: var(--fill-color);\n",
              "      border-top-color: var(--fill-color);\n",
              "    }\n",
              "    60% {\n",
              "      border-color: transparent;\n",
              "      border-right-color: var(--fill-color);\n",
              "    }\n",
              "    80% {\n",
              "      border-color: transparent;\n",
              "      border-right-color: var(--fill-color);\n",
              "      border-bottom-color: var(--fill-color);\n",
              "    }\n",
              "    90% {\n",
              "      border-color: transparent;\n",
              "      border-bottom-color: var(--fill-color);\n",
              "    }\n",
              "  }\n",
              "</style>\n",
              "\n",
              "  <script>\n",
              "    async function quickchart(key) {\n",
              "      const quickchartButtonEl =\n",
              "        document.querySelector('#' + key + ' button');\n",
              "      quickchartButtonEl.disabled = true;  // To prevent multiple clicks.\n",
              "      quickchartButtonEl.classList.add('colab-df-spinner');\n",
              "      try {\n",
              "        const charts = await google.colab.kernel.invokeFunction(\n",
              "            'suggestCharts', [key], {});\n",
              "      } catch (error) {\n",
              "        console.error('Error during call to suggestCharts:', error);\n",
              "      }\n",
              "      quickchartButtonEl.classList.remove('colab-df-spinner');\n",
              "      quickchartButtonEl.classList.add('colab-df-quickchart-complete');\n",
              "    }\n",
              "    (() => {\n",
              "      let quickchartButtonEl =\n",
              "        document.querySelector('#df-6cd4c29c-5e90-451c-a1f4-805a7f62f8d1 button');\n",
              "      quickchartButtonEl.style.display =\n",
              "        google.colab.kernel.accessAllowed ? 'block' : 'none';\n",
              "    })();\n",
              "  </script>\n",
              "</div>\n",
              "\n",
              "  <div id=\"id_d7f94ded-3d66-4973-9c65-88f66c47d4d3\">\n",
              "    <style>\n",
              "      .colab-df-generate {\n",
              "        background-color: #E8F0FE;\n",
              "        border: none;\n",
              "        border-radius: 50%;\n",
              "        cursor: pointer;\n",
              "        display: none;\n",
              "        fill: #1967D2;\n",
              "        height: 32px;\n",
              "        padding: 0 0 0 0;\n",
              "        width: 32px;\n",
              "      }\n",
              "\n",
              "      .colab-df-generate:hover {\n",
              "        background-color: #E2EBFA;\n",
              "        box-shadow: 0px 1px 2px rgba(60, 64, 67, 0.3), 0px 1px 3px 1px rgba(60, 64, 67, 0.15);\n",
              "        fill: #174EA6;\n",
              "      }\n",
              "\n",
              "      [theme=dark] .colab-df-generate {\n",
              "        background-color: #3B4455;\n",
              "        fill: #D2E3FC;\n",
              "      }\n",
              "\n",
              "      [theme=dark] .colab-df-generate:hover {\n",
              "        background-color: #434B5C;\n",
              "        box-shadow: 0px 1px 3px 1px rgba(0, 0, 0, 0.15);\n",
              "        filter: drop-shadow(0px 1px 2px rgba(0, 0, 0, 0.3));\n",
              "        fill: #FFFFFF;\n",
              "      }\n",
              "    </style>\n",
              "    <button class=\"colab-df-generate\" onclick=\"generateWithVariable('df')\"\n",
              "            title=\"Generate code using this dataframe.\"\n",
              "            style=\"display:none;\">\n",
              "\n",
              "  <svg xmlns=\"http://www.w3.org/2000/svg\" height=\"24px\"viewBox=\"0 0 24 24\"\n",
              "       width=\"24px\">\n",
              "    <path d=\"M7,19H8.4L18.45,9,17,7.55,7,17.6ZM5,21V16.75L18.45,3.32a2,2,0,0,1,2.83,0l1.4,1.43a1.91,1.91,0,0,1,.58,1.4,1.91,1.91,0,0,1-.58,1.4L9.25,21ZM18.45,9,17,7.55Zm-12,3A5.31,5.31,0,0,0,4.9,8.1,5.31,5.31,0,0,0,1,6.5,5.31,5.31,0,0,0,4.9,4.9,5.31,5.31,0,0,0,6.5,1,5.31,5.31,0,0,0,8.1,4.9,5.31,5.31,0,0,0,12,6.5,5.46,5.46,0,0,0,6.5,12Z\"/>\n",
              "  </svg>\n",
              "    </button>\n",
              "    <script>\n",
              "      (() => {\n",
              "      const buttonEl =\n",
              "        document.querySelector('#id_d7f94ded-3d66-4973-9c65-88f66c47d4d3 button.colab-df-generate');\n",
              "      buttonEl.style.display =\n",
              "        google.colab.kernel.accessAllowed ? 'block' : 'none';\n",
              "\n",
              "      buttonEl.onclick = () => {\n",
              "        google.colab.notebook.generateWithVariable('df');\n",
              "      }\n",
              "      })();\n",
              "    </script>\n",
              "  </div>\n",
              "\n",
              "    </div>\n",
              "  </div>\n"
            ]
          },
          "metadata": {},
          "execution_count": 123
        }
      ]
    },
    {
      "cell_type": "markdown",
      "source": [
        "# Product Cipher"
      ],
      "metadata": {
        "id": "4s0LC0eKrgi3"
      }
    },
    {
      "cell_type": "code",
      "source": [
        "import pandas as pd\n",
        "import math\n",
        "\n",
        "def caeser_encrypt(pt,key):\n",
        "  ct=\"\"\n",
        "  for i in pt:\n",
        "    if(i.isupper()):\n",
        "      ct=ct+chr((ord(i)+key-65)%26+65)\n",
        "    else:\n",
        "      ct=ct+chr((ord(i)+key-97)%26+97)\n",
        "  return ct\n",
        "\n",
        "def columnar_encrypt(pt,key):\n",
        "  cols=[]\n",
        "  for i in key:\n",
        "    cols.append(i)\n",
        "  df=pd.DataFrame(columns=cols)\n",
        "  rows=int(math.ceil(len(pt)/len(key)))\n",
        "  for col in cols:\n",
        "    df[col]=[\"\" for i in range(rows)]\n",
        "  ptr=0\n",
        "  pt=pt.replace(\" \",\"_\")\n",
        "  for row in range(rows):\n",
        "    for col in cols:\n",
        "      try:\n",
        "        df[col][row]=pt[ptr]\n",
        "        ptr=ptr+1\n",
        "      except:\n",
        "        df[col][row]=\"_\"\n",
        "  l1=cols\n",
        "  l1.sort()\n",
        "  ct=\"\"\n",
        "  for col in l1:\n",
        "    for row in range(rows):\n",
        "      ct=ct+df[col][row]\n",
        "  return ct\n",
        "\n",
        "def product_encrypt(pt,key1,key2):\n",
        "    ct1=caeser_encrypt(pt,key1)\n",
        "    ct2=columnar_encrypt(ct1,key2)\n",
        "    return ct2\n",
        "\n",
        "\n",
        "product_encrypt(\"AttackOnDJ\",3,\"HACK\")"
      ],
      "metadata": {
        "id": "O_yXoI5qrkKc",
        "colab": {
          "base_uri": "https://localhost:8080/",
          "height": 35
        },
        "outputId": "d1fa01be-43fd-49fd-aab7-ff86d94542bf"
      },
      "execution_count": 11,
      "outputs": [
        {
          "output_type": "execute_result",
          "data": {
            "text/plain": [
              "'wnMwR_DfGdq_'"
            ],
            "application/vnd.google.colaboratory.intrinsic+json": {
              "type": "string"
            }
          },
          "metadata": {},
          "execution_count": 11
        }
      ]
    },
    {
      "cell_type": "markdown",
      "source": [
        "# PlayFair Cipher"
      ],
      "metadata": {
        "id": "0JulFIypygHC"
      }
    },
    {
      "cell_type": "code",
      "source": [
        "import pandas as pd\n",
        "import numpy as np\n",
        "\n",
        "def encrypt(pt,key):\n",
        "\n",
        "  df = pd.DataFrame(columns=[0,1,2,3,4])\n",
        "\n",
        "  for col in df.columns:\n",
        "    df[col]=[\" \" for i in range(5)]\n",
        "\n",
        "  row=0\n",
        "  col=0\n",
        "  p=\"\"\n",
        "  for char in key:\n",
        "    if char not in p:\n",
        "      p=p+char\n",
        "\n",
        "  for i in p:\n",
        "    df[col][row]=i\n",
        "    if(col<4):\n",
        "      col=col+1\n",
        "    else:\n",
        "      row=row+1\n",
        "      col=0\n",
        "\n",
        "  alphabets=[]\n",
        "  for i in range(ord('a'),ord('z')+1):\n",
        "    alphabets.append(chr(i))\n",
        "\n",
        "  if('i' in p or 'j' in p):\n",
        "    alphabets.remove('i')\n",
        "    alphabets.remove('j')\n",
        "\n",
        "  newL=[]\n",
        "  for alpha in alphabets:\n",
        "      if(alpha not in p):\n",
        "          newL.append(alpha)\n",
        "\n",
        "  if('i' in newL):\n",
        "    newL.remove('j')\n",
        "\n",
        "  for letter in newL:\n",
        "    df[col][row]=letter\n",
        "    if(col<4):\n",
        "      col=col+1\n",
        "    else:\n",
        "      row=row+1\n",
        "      col=0\n",
        "\n",
        "  pairs=[]\n",
        "\n",
        "  i=0\n",
        "  while i<len(pt):\n",
        "    try:\n",
        "      if(pt[i]==pt[i+1]):\n",
        "        pair = pt[i] + \"x\"\n",
        "        i=i+1\n",
        "        pairs.append(pair)\n",
        "      else:\n",
        "        pair=pt[i]+pt[i+1]\n",
        "        i=i+2\n",
        "        pairs.append(pair)\n",
        "    except(IndexError):\n",
        "      pair = pt[i] + \"x\"\n",
        "      pairs.append(pair)\n",
        "      break\n",
        "\n",
        "  ct=\"\"\n",
        "  for i in pairs:\n",
        "    res1=np.where(df==i[0])\n",
        "    res2=np.where(df==i[1])\n",
        "\n",
        "    row1=res1[0][0]\n",
        "    col1=res1[1][0]\n",
        "\n",
        "    row2=res2[0][0]\n",
        "    col2=res2[1][0]\n",
        "\n",
        "    if(col1==col2):\n",
        "      if(row1==4):\n",
        "        row1=0\n",
        "      else:\n",
        "        row1=row1+1\n",
        "      if(row2==4):\n",
        "        row2=0\n",
        "      else:\n",
        "        row2=row2+1\n",
        "\n",
        "    elif(row1==row2):\n",
        "      if(col1==4):\n",
        "        col1=0\n",
        "      else:\n",
        "        col1=col1+1\n",
        "      if(col2==4):\n",
        "        col2=0\n",
        "      else:\n",
        "        col2=col2+1\n",
        "\n",
        "    else:\n",
        "      temp=col1\n",
        "      col1=col2\n",
        "      col2=temp\n",
        "\n",
        "    l1=df[col1][row1]\n",
        "    l2=df[col2][row2]\n",
        "    newPair=l1+l2\n",
        "    ct=ct+newPair\n",
        "\n",
        "  return ct, df\n",
        "\n",
        "ct,df=encrypt('instruments','monarchy')"
      ],
      "metadata": {
        "id": "l0PPEisdynJC"
      },
      "execution_count": 12,
      "outputs": []
    },
    {
      "cell_type": "code",
      "source": [
        "ct"
      ],
      "metadata": {
        "colab": {
          "base_uri": "https://localhost:8080/",
          "height": 35
        },
        "id": "f1z_7YZHag9O",
        "outputId": "7c071c42-48fd-43dc-dfad-e0af0a9def58"
      },
      "execution_count": 13,
      "outputs": [
        {
          "output_type": "execute_result",
          "data": {
            "text/plain": [
              "'gatlmzclrqxa'"
            ],
            "application/vnd.google.colaboratory.intrinsic+json": {
              "type": "string"
            }
          },
          "metadata": {},
          "execution_count": 13
        }
      ]
    },
    {
      "cell_type": "code",
      "source": [
        "df"
      ],
      "metadata": {
        "colab": {
          "base_uri": "https://localhost:8080/",
          "height": 206
        },
        "id": "CgBNrVIBah0P",
        "outputId": "f24b5b93-591c-4c4f-b40c-d7d2cdd1a520"
      },
      "execution_count": 14,
      "outputs": [
        {
          "output_type": "execute_result",
          "data": {
            "text/plain": [
              "   0  1  2  3  4\n",
              "0  m  o  n  a  r\n",
              "1  c  h  y  b  d\n",
              "2  e  f  g  i  k\n",
              "3  l  p  q  s  t\n",
              "4  u  v  w  x  z"
            ],
            "text/html": [
              "\n",
              "  <div id=\"df-e21a036c-8bfc-4120-8238-8f75c2a6f675\" class=\"colab-df-container\">\n",
              "    <div>\n",
              "<style scoped>\n",
              "    .dataframe tbody tr th:only-of-type {\n",
              "        vertical-align: middle;\n",
              "    }\n",
              "\n",
              "    .dataframe tbody tr th {\n",
              "        vertical-align: top;\n",
              "    }\n",
              "\n",
              "    .dataframe thead th {\n",
              "        text-align: right;\n",
              "    }\n",
              "</style>\n",
              "<table border=\"1\" class=\"dataframe\">\n",
              "  <thead>\n",
              "    <tr style=\"text-align: right;\">\n",
              "      <th></th>\n",
              "      <th>0</th>\n",
              "      <th>1</th>\n",
              "      <th>2</th>\n",
              "      <th>3</th>\n",
              "      <th>4</th>\n",
              "    </tr>\n",
              "  </thead>\n",
              "  <tbody>\n",
              "    <tr>\n",
              "      <th>0</th>\n",
              "      <td>m</td>\n",
              "      <td>o</td>\n",
              "      <td>n</td>\n",
              "      <td>a</td>\n",
              "      <td>r</td>\n",
              "    </tr>\n",
              "    <tr>\n",
              "      <th>1</th>\n",
              "      <td>c</td>\n",
              "      <td>h</td>\n",
              "      <td>y</td>\n",
              "      <td>b</td>\n",
              "      <td>d</td>\n",
              "    </tr>\n",
              "    <tr>\n",
              "      <th>2</th>\n",
              "      <td>e</td>\n",
              "      <td>f</td>\n",
              "      <td>g</td>\n",
              "      <td>i</td>\n",
              "      <td>k</td>\n",
              "    </tr>\n",
              "    <tr>\n",
              "      <th>3</th>\n",
              "      <td>l</td>\n",
              "      <td>p</td>\n",
              "      <td>q</td>\n",
              "      <td>s</td>\n",
              "      <td>t</td>\n",
              "    </tr>\n",
              "    <tr>\n",
              "      <th>4</th>\n",
              "      <td>u</td>\n",
              "      <td>v</td>\n",
              "      <td>w</td>\n",
              "      <td>x</td>\n",
              "      <td>z</td>\n",
              "    </tr>\n",
              "  </tbody>\n",
              "</table>\n",
              "</div>\n",
              "    <div class=\"colab-df-buttons\">\n",
              "\n",
              "  <div class=\"colab-df-container\">\n",
              "    <button class=\"colab-df-convert\" onclick=\"convertToInteractive('df-e21a036c-8bfc-4120-8238-8f75c2a6f675')\"\n",
              "            title=\"Convert this dataframe to an interactive table.\"\n",
              "            style=\"display:none;\">\n",
              "\n",
              "  <svg xmlns=\"http://www.w3.org/2000/svg\" height=\"24px\" viewBox=\"0 -960 960 960\">\n",
              "    <path d=\"M120-120v-720h720v720H120Zm60-500h600v-160H180v160Zm220 220h160v-160H400v160Zm0 220h160v-160H400v160ZM180-400h160v-160H180v160Zm440 0h160v-160H620v160ZM180-180h160v-160H180v160Zm440 0h160v-160H620v160Z\"/>\n",
              "  </svg>\n",
              "    </button>\n",
              "\n",
              "  <style>\n",
              "    .colab-df-container {\n",
              "      display:flex;\n",
              "      gap: 12px;\n",
              "    }\n",
              "\n",
              "    .colab-df-convert {\n",
              "      background-color: #E8F0FE;\n",
              "      border: none;\n",
              "      border-radius: 50%;\n",
              "      cursor: pointer;\n",
              "      display: none;\n",
              "      fill: #1967D2;\n",
              "      height: 32px;\n",
              "      padding: 0 0 0 0;\n",
              "      width: 32px;\n",
              "    }\n",
              "\n",
              "    .colab-df-convert:hover {\n",
              "      background-color: #E2EBFA;\n",
              "      box-shadow: 0px 1px 2px rgba(60, 64, 67, 0.3), 0px 1px 3px 1px rgba(60, 64, 67, 0.15);\n",
              "      fill: #174EA6;\n",
              "    }\n",
              "\n",
              "    .colab-df-buttons div {\n",
              "      margin-bottom: 4px;\n",
              "    }\n",
              "\n",
              "    [theme=dark] .colab-df-convert {\n",
              "      background-color: #3B4455;\n",
              "      fill: #D2E3FC;\n",
              "    }\n",
              "\n",
              "    [theme=dark] .colab-df-convert:hover {\n",
              "      background-color: #434B5C;\n",
              "      box-shadow: 0px 1px 3px 1px rgba(0, 0, 0, 0.15);\n",
              "      filter: drop-shadow(0px 1px 2px rgba(0, 0, 0, 0.3));\n",
              "      fill: #FFFFFF;\n",
              "    }\n",
              "  </style>\n",
              "\n",
              "    <script>\n",
              "      const buttonEl =\n",
              "        document.querySelector('#df-e21a036c-8bfc-4120-8238-8f75c2a6f675 button.colab-df-convert');\n",
              "      buttonEl.style.display =\n",
              "        google.colab.kernel.accessAllowed ? 'block' : 'none';\n",
              "\n",
              "      async function convertToInteractive(key) {\n",
              "        const element = document.querySelector('#df-e21a036c-8bfc-4120-8238-8f75c2a6f675');\n",
              "        const dataTable =\n",
              "          await google.colab.kernel.invokeFunction('convertToInteractive',\n",
              "                                                    [key], {});\n",
              "        if (!dataTable) return;\n",
              "\n",
              "        const docLinkHtml = 'Like what you see? Visit the ' +\n",
              "          '<a target=\"_blank\" href=https://colab.research.google.com/notebooks/data_table.ipynb>data table notebook</a>'\n",
              "          + ' to learn more about interactive tables.';\n",
              "        element.innerHTML = '';\n",
              "        dataTable['output_type'] = 'display_data';\n",
              "        await google.colab.output.renderOutput(dataTable, element);\n",
              "        const docLink = document.createElement('div');\n",
              "        docLink.innerHTML = docLinkHtml;\n",
              "        element.appendChild(docLink);\n",
              "      }\n",
              "    </script>\n",
              "  </div>\n",
              "\n",
              "\n",
              "<div id=\"df-ac96e97b-663a-4242-b7ba-626a5a0da693\">\n",
              "  <button class=\"colab-df-quickchart\" onclick=\"quickchart('df-ac96e97b-663a-4242-b7ba-626a5a0da693')\"\n",
              "            title=\"Suggest charts\"\n",
              "            style=\"display:none;\">\n",
              "\n",
              "<svg xmlns=\"http://www.w3.org/2000/svg\" height=\"24px\"viewBox=\"0 0 24 24\"\n",
              "     width=\"24px\">\n",
              "    <g>\n",
              "        <path d=\"M19 3H5c-1.1 0-2 .9-2 2v14c0 1.1.9 2 2 2h14c1.1 0 2-.9 2-2V5c0-1.1-.9-2-2-2zM9 17H7v-7h2v7zm4 0h-2V7h2v10zm4 0h-2v-4h2v4z\"/>\n",
              "    </g>\n",
              "</svg>\n",
              "  </button>\n",
              "\n",
              "<style>\n",
              "  .colab-df-quickchart {\n",
              "      --bg-color: #E8F0FE;\n",
              "      --fill-color: #1967D2;\n",
              "      --hover-bg-color: #E2EBFA;\n",
              "      --hover-fill-color: #174EA6;\n",
              "      --disabled-fill-color: #AAA;\n",
              "      --disabled-bg-color: #DDD;\n",
              "  }\n",
              "\n",
              "  [theme=dark] .colab-df-quickchart {\n",
              "      --bg-color: #3B4455;\n",
              "      --fill-color: #D2E3FC;\n",
              "      --hover-bg-color: #434B5C;\n",
              "      --hover-fill-color: #FFFFFF;\n",
              "      --disabled-bg-color: #3B4455;\n",
              "      --disabled-fill-color: #666;\n",
              "  }\n",
              "\n",
              "  .colab-df-quickchart {\n",
              "    background-color: var(--bg-color);\n",
              "    border: none;\n",
              "    border-radius: 50%;\n",
              "    cursor: pointer;\n",
              "    display: none;\n",
              "    fill: var(--fill-color);\n",
              "    height: 32px;\n",
              "    padding: 0;\n",
              "    width: 32px;\n",
              "  }\n",
              "\n",
              "  .colab-df-quickchart:hover {\n",
              "    background-color: var(--hover-bg-color);\n",
              "    box-shadow: 0 1px 2px rgba(60, 64, 67, 0.3), 0 1px 3px 1px rgba(60, 64, 67, 0.15);\n",
              "    fill: var(--button-hover-fill-color);\n",
              "  }\n",
              "\n",
              "  .colab-df-quickchart-complete:disabled,\n",
              "  .colab-df-quickchart-complete:disabled:hover {\n",
              "    background-color: var(--disabled-bg-color);\n",
              "    fill: var(--disabled-fill-color);\n",
              "    box-shadow: none;\n",
              "  }\n",
              "\n",
              "  .colab-df-spinner {\n",
              "    border: 2px solid var(--fill-color);\n",
              "    border-color: transparent;\n",
              "    border-bottom-color: var(--fill-color);\n",
              "    animation:\n",
              "      spin 1s steps(1) infinite;\n",
              "  }\n",
              "\n",
              "  @keyframes spin {\n",
              "    0% {\n",
              "      border-color: transparent;\n",
              "      border-bottom-color: var(--fill-color);\n",
              "      border-left-color: var(--fill-color);\n",
              "    }\n",
              "    20% {\n",
              "      border-color: transparent;\n",
              "      border-left-color: var(--fill-color);\n",
              "      border-top-color: var(--fill-color);\n",
              "    }\n",
              "    30% {\n",
              "      border-color: transparent;\n",
              "      border-left-color: var(--fill-color);\n",
              "      border-top-color: var(--fill-color);\n",
              "      border-right-color: var(--fill-color);\n",
              "    }\n",
              "    40% {\n",
              "      border-color: transparent;\n",
              "      border-right-color: var(--fill-color);\n",
              "      border-top-color: var(--fill-color);\n",
              "    }\n",
              "    60% {\n",
              "      border-color: transparent;\n",
              "      border-right-color: var(--fill-color);\n",
              "    }\n",
              "    80% {\n",
              "      border-color: transparent;\n",
              "      border-right-color: var(--fill-color);\n",
              "      border-bottom-color: var(--fill-color);\n",
              "    }\n",
              "    90% {\n",
              "      border-color: transparent;\n",
              "      border-bottom-color: var(--fill-color);\n",
              "    }\n",
              "  }\n",
              "</style>\n",
              "\n",
              "  <script>\n",
              "    async function quickchart(key) {\n",
              "      const quickchartButtonEl =\n",
              "        document.querySelector('#' + key + ' button');\n",
              "      quickchartButtonEl.disabled = true;  // To prevent multiple clicks.\n",
              "      quickchartButtonEl.classList.add('colab-df-spinner');\n",
              "      try {\n",
              "        const charts = await google.colab.kernel.invokeFunction(\n",
              "            'suggestCharts', [key], {});\n",
              "      } catch (error) {\n",
              "        console.error('Error during call to suggestCharts:', error);\n",
              "      }\n",
              "      quickchartButtonEl.classList.remove('colab-df-spinner');\n",
              "      quickchartButtonEl.classList.add('colab-df-quickchart-complete');\n",
              "    }\n",
              "    (() => {\n",
              "      let quickchartButtonEl =\n",
              "        document.querySelector('#df-ac96e97b-663a-4242-b7ba-626a5a0da693 button');\n",
              "      quickchartButtonEl.style.display =\n",
              "        google.colab.kernel.accessAllowed ? 'block' : 'none';\n",
              "    })();\n",
              "  </script>\n",
              "</div>\n",
              "\n",
              "  <div id=\"id_9d36716a-e0fa-4e69-98d0-e28ec1e6e5c4\">\n",
              "    <style>\n",
              "      .colab-df-generate {\n",
              "        background-color: #E8F0FE;\n",
              "        border: none;\n",
              "        border-radius: 50%;\n",
              "        cursor: pointer;\n",
              "        display: none;\n",
              "        fill: #1967D2;\n",
              "        height: 32px;\n",
              "        padding: 0 0 0 0;\n",
              "        width: 32px;\n",
              "      }\n",
              "\n",
              "      .colab-df-generate:hover {\n",
              "        background-color: #E2EBFA;\n",
              "        box-shadow: 0px 1px 2px rgba(60, 64, 67, 0.3), 0px 1px 3px 1px rgba(60, 64, 67, 0.15);\n",
              "        fill: #174EA6;\n",
              "      }\n",
              "\n",
              "      [theme=dark] .colab-df-generate {\n",
              "        background-color: #3B4455;\n",
              "        fill: #D2E3FC;\n",
              "      }\n",
              "\n",
              "      [theme=dark] .colab-df-generate:hover {\n",
              "        background-color: #434B5C;\n",
              "        box-shadow: 0px 1px 3px 1px rgba(0, 0, 0, 0.15);\n",
              "        filter: drop-shadow(0px 1px 2px rgba(0, 0, 0, 0.3));\n",
              "        fill: #FFFFFF;\n",
              "      }\n",
              "    </style>\n",
              "    <button class=\"colab-df-generate\" onclick=\"generateWithVariable('df')\"\n",
              "            title=\"Generate code using this dataframe.\"\n",
              "            style=\"display:none;\">\n",
              "\n",
              "  <svg xmlns=\"http://www.w3.org/2000/svg\" height=\"24px\"viewBox=\"0 0 24 24\"\n",
              "       width=\"24px\">\n",
              "    <path d=\"M7,19H8.4L18.45,9,17,7.55,7,17.6ZM5,21V16.75L18.45,3.32a2,2,0,0,1,2.83,0l1.4,1.43a1.91,1.91,0,0,1,.58,1.4,1.91,1.91,0,0,1-.58,1.4L9.25,21ZM18.45,9,17,7.55Zm-12,3A5.31,5.31,0,0,0,4.9,8.1,5.31,5.31,0,0,0,1,6.5,5.31,5.31,0,0,0,4.9,4.9,5.31,5.31,0,0,0,6.5,1,5.31,5.31,0,0,0,8.1,4.9,5.31,5.31,0,0,0,12,6.5,5.46,5.46,0,0,0,6.5,12Z\"/>\n",
              "  </svg>\n",
              "    </button>\n",
              "    <script>\n",
              "      (() => {\n",
              "      const buttonEl =\n",
              "        document.querySelector('#id_9d36716a-e0fa-4e69-98d0-e28ec1e6e5c4 button.colab-df-generate');\n",
              "      buttonEl.style.display =\n",
              "        google.colab.kernel.accessAllowed ? 'block' : 'none';\n",
              "\n",
              "      buttonEl.onclick = () => {\n",
              "        google.colab.notebook.generateWithVariable('df');\n",
              "      }\n",
              "      })();\n",
              "    </script>\n",
              "  </div>\n",
              "\n",
              "    </div>\n",
              "  </div>\n"
            ]
          },
          "metadata": {},
          "execution_count": 14
        }
      ]
    },
    {
      "cell_type": "markdown",
      "source": [
        "# RSA"
      ],
      "metadata": {
        "id": "NFDu516vanME"
      }
    },
    {
      "cell_type": "code",
      "source": [
        "import random\n",
        "from sympy import isprime,mod_inverse\n",
        "def gcd(a, b):\n",
        "    if a == 0:\n",
        "        return b\n",
        "\n",
        "    return gcd(b % a, a)"
      ],
      "metadata": {
        "id": "DYh4jRSsapZl"
      },
      "execution_count": 15,
      "outputs": []
    },
    {
      "cell_type": "code",
      "source": [
        "def generatePrime(bits):\n",
        "  p=random.getrandbits(bits)\n",
        "  if(isprime(p)):\n",
        "    return p\n",
        "  else:\n",
        "    return generatePrime(bits)"
      ],
      "metadata": {
        "id": "R2kgUU53eh7-"
      },
      "execution_count": 16,
      "outputs": []
    },
    {
      "cell_type": "code",
      "source": [
        "def encrypt(pt,e,n):\n",
        "  ct=[pow(ord(char),e,n) for char in pt]\n",
        "  return ct"
      ],
      "metadata": {
        "id": "dyQO9c_lSoBO"
      },
      "execution_count": 63,
      "outputs": []
    },
    {
      "cell_type": "code",
      "source": [
        "def decrypt(ct,d,n):\n",
        "  pt=[chr(pow(char,d,n)) for char in ct]\n",
        "  p=\"\"\n",
        "  for i in pt:\n",
        "    p=p+i\n",
        "  return p"
      ],
      "metadata": {
        "id": "-YplAYECS1gc"
      },
      "execution_count": 68,
      "outputs": []
    },
    {
      "cell_type": "code",
      "source": [
        "bits=10\n",
        "p=generatePrime(bits)\n",
        "q=generatePrime(bits)\n",
        "\n",
        "print('Value of p selected: ')\n",
        "print(p)\n",
        "print('Value of q selected: ')\n",
        "print(q)\n",
        "\n",
        "n=p*q\n",
        "\n",
        "phi=(p-1)*(q-1)\n",
        "\n",
        "e=random.randrange(1,phi)\n",
        "g=gcd(e,phi)\n",
        "while(g!=1):\n",
        "  e=random.randrange(1,phi)\n",
        "  g=gcd(e,phi)\n",
        "\n",
        "d=mod_inverse(e,phi)\n",
        "\n",
        "print('Private Key: ')\n",
        "print((e,n))\n",
        "\n",
        "print('Public Key: ')\n",
        "print((d,n))"
      ],
      "metadata": {
        "colab": {
          "base_uri": "https://localhost:8080/"
        },
        "id": "QmujgGiSRDqD",
        "outputId": "cf2ef411-c9e7-439a-d07e-a09ecb8a286f"
      },
      "execution_count": 64,
      "outputs": [
        {
          "output_type": "stream",
          "name": "stdout",
          "text": [
            "Value of p selected: \n",
            "13\n",
            "Value of q selected: \n",
            "53\n",
            "Private Key: \n",
            "(433, 689)\n",
            "Public Key: \n",
            "(49, 689)\n"
          ]
        }
      ]
    },
    {
      "cell_type": "code",
      "source": [
        "ct=encrypt('hello',e,n)"
      ],
      "metadata": {
        "id": "YbI57n69iWRa"
      },
      "execution_count": 69,
      "outputs": []
    },
    {
      "cell_type": "code",
      "source": [
        "ct"
      ],
      "metadata": {
        "colab": {
          "base_uri": "https://localhost:8080/"
        },
        "id": "Z3yhFe2IRhrq",
        "outputId": "39122c6a-894b-4bff-f18f-8d9f54678563"
      },
      "execution_count": 70,
      "outputs": [
        {
          "output_type": "execute_result",
          "data": {
            "text/plain": [
              "[156, 465, 56, 56, 436]"
            ]
          },
          "metadata": {},
          "execution_count": 70
        }
      ]
    },
    {
      "cell_type": "code",
      "source": [
        "decrypt(ct,d,n)"
      ],
      "metadata": {
        "colab": {
          "base_uri": "https://localhost:8080/",
          "height": 35
        },
        "id": "TaRzrZz_Rb1H",
        "outputId": "7bd6637a-e4b1-4c1d-df07-d1d03867c4b0"
      },
      "execution_count": 71,
      "outputs": [
        {
          "output_type": "execute_result",
          "data": {
            "text/plain": [
              "'hello'"
            ],
            "application/vnd.google.colaboratory.intrinsic+json": {
              "type": "string"
            }
          },
          "metadata": {},
          "execution_count": 71
        }
      ]
    },
    {
      "cell_type": "markdown",
      "source": [
        "# RSA with Digital Signature"
      ],
      "metadata": {
        "id": "pS2eUyCim4CM"
      }
    },
    {
      "cell_type": "code",
      "source": [
        "import random\n",
        "from sympy import isprime,mod_inverse\n",
        "from hashlib import sha256\n",
        "def gcd(a, b):\n",
        "    if a == 0:\n",
        "        return b\n",
        "\n",
        "    return gcd(b % a, a)"
      ],
      "metadata": {
        "id": "pIJW4fHbm4CM"
      },
      "execution_count": 19,
      "outputs": []
    },
    {
      "cell_type": "code",
      "source": [
        "def generatePrime(bits):\n",
        "  p=random.getrandbits(bits)\n",
        "  if(isprime(p)):\n",
        "    return p\n",
        "  else:\n",
        "    return generatePrime(bits)"
      ],
      "metadata": {
        "id": "tB78NUqVm4CM"
      },
      "execution_count": 20,
      "outputs": []
    },
    {
      "cell_type": "code",
      "source": [
        "def encrypt(pt):\n",
        "  pt=sha256(pt.encode('utf-8')).hexdigest()\n",
        "  print(\"Hashed input\")\n",
        "  print(pt)\n",
        "  bits=10\n",
        "  p=generatePrime(bits)\n",
        "  q=generatePrime(bits)\n",
        "\n",
        "  print('Value of p selected: ')\n",
        "  print(p)\n",
        "  print('Value of q selected: ')\n",
        "  print(q)\n",
        "\n",
        "  n=p*q\n",
        "\n",
        "  phi=(p-1)*(q-1)\n",
        "\n",
        "  e=random.randrange(1,phi)\n",
        "  g=gcd(e,phi)\n",
        "  while(g!=1):\n",
        "    e=random.randrange(1,phi)\n",
        "    g=gcd(e,phi)\n",
        "\n",
        "  d=mod_inverse(e,phi)\n",
        "\n",
        "  print('Private Key: ')\n",
        "  print((e,n))\n",
        "\n",
        "  print('Public Key: ')\n",
        "  print((d,n))\n",
        "\n",
        "  ct=\"\"\n",
        "  for i in pt:\n",
        "    ct=ct+str(pow(ord(i),e,n))\n",
        "\n",
        "  return ct"
      ],
      "metadata": {
        "id": "11oHYmvtm4CM"
      },
      "execution_count": 21,
      "outputs": []
    },
    {
      "cell_type": "code",
      "source": [
        "encrypt('hello')"
      ],
      "metadata": {
        "colab": {
          "base_uri": "https://localhost:8080/",
          "height": 226
        },
        "outputId": "13cdccf6-cffc-472b-808f-7759dfad54c4",
        "id": "9Y0N1SKvm4CT"
      },
      "execution_count": 22,
      "outputs": [
        {
          "output_type": "stream",
          "name": "stdout",
          "text": [
            "Hashed input\n",
            "2cf24dba5fb0a30e26e83b2ac5b9e29e1b161e5c1fa7425e73043362938b9824\n",
            "Value of p selected: \n",
            "769\n",
            "Value of q selected: \n",
            "283\n",
            "Private Key: \n",
            "(175645, 217627)\n",
            "Public Key: \n",
            "(197173, 217627)\n"
          ]
        },
        {
          "output_type": "execute_result",
          "data": {
            "text/plain": [
              "'871761113041315298717619738663075508613035619462613152955086192632130356200763192632165457871761382591654572134702007635508687176130356111304194626550865428816545787176542881654574517155086451711382594517116545719462611130445171131529130356141423197386871761946261654571414232007631926321973862007632007631382598717654288200763213470550865428821347087176197386'"
            ],
            "application/vnd.google.colaboratory.intrinsic+json": {
              "type": "string"
            }
          },
          "metadata": {},
          "execution_count": 22
        }
      ]
    },
    {
      "cell_type": "markdown",
      "source": [
        "# Diffie Hellman"
      ],
      "metadata": {
        "id": "wDP770RvmSic"
      }
    },
    {
      "cell_type": "code",
      "source": [
        "from sympy import isprime,mod_inverse\n",
        "def primitiveCheck(g,p):\n",
        "  l1=[]\n",
        "  for i in range(1,p):\n",
        "    l1.append(pow(g,i)%p)\n",
        "  for i in l1:\n",
        "    if(l1.count(i)>1):\n",
        "      return -1\n",
        "    return 1"
      ],
      "metadata": {
        "id": "87Dg4wpYmggG"
      },
      "execution_count": 23,
      "outputs": []
    },
    {
      "cell_type": "code",
      "source": [
        "p=random.randrange(1024)\n",
        "while(True):\n",
        "  if(isprime(p)):\n",
        "    break\n",
        "  else:\n",
        "    p=random.randrange(1024)\n",
        "\n",
        "g=random.randrange(p)\n",
        "while(True):\n",
        "  if(primitiveCheck(g,p)==1):\n",
        "    break\n",
        "  else:\n",
        "    g=random.randrange(p)\n",
        "\n",
        "a=int(input(\"Select private Key for Alice\"))\n",
        "b=int(input(\"Select private key for Bob\"))\n",
        "\n",
        "x1=pow(g,a)%p\n",
        "y1=pow(g,b)%p\n",
        "\n",
        "x2=pow(y1,a)%p\n",
        "y2=pow(x1,b)%p\n",
        "\n",
        "if(x2==y2):\n",
        "  print(\"Key Exchange successul!\")\n",
        "  print(\"Shared private Key\")\n",
        "  print(x2)"
      ],
      "metadata": {
        "colab": {
          "base_uri": "https://localhost:8080/"
        },
        "id": "VsVMLruIp52j",
        "outputId": "e1abc105-edf1-46a0-eb04-a4cb9e127e1f"
      },
      "execution_count": 24,
      "outputs": [
        {
          "output_type": "stream",
          "name": "stdout",
          "text": [
            "Select private Key for Alice7\n",
            "Select private key for Bob8\n",
            "Key Exchange successul!\n",
            "Shared private Key\n",
            "223\n"
          ]
        }
      ]
    },
    {
      "cell_type": "markdown",
      "source": [
        "# Diffie Hellman Man In the Middle"
      ],
      "metadata": {
        "id": "0Y1FaPXoKKFr"
      }
    },
    {
      "cell_type": "code",
      "source": [
        "from sympy import isprime,mod_inverse\n",
        "def primitiveCheck(g,p):\n",
        "  l1=[]\n",
        "  for i in range(1,p):\n",
        "    l1.append(pow(g,i)%p)\n",
        "  for i in l1:\n",
        "    if(l1.count(i)>1):\n",
        "      return -1\n",
        "    return 1"
      ],
      "metadata": {
        "id": "5jqJ4KfhKSvG"
      },
      "execution_count": 25,
      "outputs": []
    },
    {
      "cell_type": "code",
      "source": [
        "p=random.randrange(1024)\n",
        "while(True):\n",
        "  if(isprime(p)):\n",
        "    break\n",
        "  else:\n",
        "    p=random.randrange(1024)\n",
        "\n",
        "g=random.randrange(p)\n",
        "while(True):\n",
        "  if(primitiveCheck(g,p)==1):\n",
        "    break\n",
        "  else:\n",
        "    g=random.randrange(p)\n",
        "\n",
        "a=int(input(\"Select private Key for Alice\"))\n",
        "b=int(input(\"Select private key for Bob\"))\n",
        "c=int(input(\"Select private key for Hacker\"))\n",
        "\n",
        "x1=pow(g,a)%p\n",
        "h1=pow(g,c)%p\n",
        "y1=pow(g,b)%p\n",
        "\n",
        "x2=pow(h1,a)%p\n",
        "hx2=pow(x1,c)%p\n",
        "\n",
        "hy2=pow(y1,c)%p\n",
        "y2=pow(h1,b)%p\n",
        "\n",
        "if(hx2==x2):\n",
        "  print(\"Hacker has connected with Alice\")\n",
        "  print(\"Shared key of Hacker with Alice\")\n",
        "  print(hx2)\n",
        "\n",
        "if(hy2==y2):\n",
        "  print(\"Hacker has connected with Bob\")\n",
        "  print(\"Shared key of Hacker with Bob\")\n",
        "  print(hy2)"
      ],
      "metadata": {
        "colab": {
          "base_uri": "https://localhost:8080/"
        },
        "id": "A2s1xip6Kbuo",
        "outputId": "7e69b64a-b2d9-4b22-c71a-688ad71b30e6"
      },
      "execution_count": 27,
      "outputs": [
        {
          "output_type": "stream",
          "name": "stdout",
          "text": [
            "Select private Key for Alice7\n",
            "Select private key for Bob8\n",
            "Select private key for Hacker9\n",
            "Hacker has connected with Alice\n",
            "Shared key of Hacker with Alice\n",
            "342\n",
            "Hacker has connected with Bob\n",
            "Shared key of Hacker with Bob\n",
            "235\n"
          ]
        }
      ]
    }
  ]
}