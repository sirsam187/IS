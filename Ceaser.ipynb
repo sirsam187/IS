{
 "cells": [
  {
   "cell_type": "code",
   "execution_count": 1,
   "metadata": {},
   "outputs": [
    {
     "name": "stdout",
     "output_type": "stream",
     "text": [
      "Encrypted text =  DWWDFN\n",
      "Decrypted text =  ATTACK\n"
     ]
    }
   ],
   "source": [
    "def encrpyt(text,s):\n",
    "    res=\"\"\n",
    "    for i in range(len(text)):\n",
    "        res+=(chr)((ord(text[i])+s-65)%26+65)\n",
    "    return res\n",
    "text=input(\"Enter text :\")\n",
    "shift=int(input(\"Enter Shift-value :\"))\n",
    "print(\"Encrypted text = \",encrpyt(text,shift))\n",
    "print(\"Decrypted text = \",encrpyt(encrpyt(text,shift),(26-shift)%26))"
   ]
  }
 ],
 "metadata": {
  "kernelspec": {
   "display_name": "Python 3",
   "language": "python",
   "name": "python3"
  },
  "language_info": {
   "codemirror_mode": {
    "name": "ipython",
    "version": 3
   },
   "file_extension": ".py",
   "mimetype": "text/x-python",
   "name": "python",
   "nbconvert_exporter": "python",
   "pygments_lexer": "ipython3",
   "version": "3.10.1"
  }
 },
 "nbformat": 4,
 "nbformat_minor": 2
}
